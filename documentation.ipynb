{
 "cells": [
  {
   "cell_type": "code",
   "execution_count": 1,
   "id": "021fcc46",
   "metadata": {},
   "outputs": [],
   "source": [
    "# first of all we downloaded the 8 images from git link provided\n",
    "# then i made a virtualenv named as localenv having python3.7\n",
    "# then after activating it i did a installation of labelimg using\n",
    "# !git clone https://github.com/tzutalin/labelImg\n",
    "# after that installation of libraries is done using requirements.txt file shared by me on github\n",
    "# !pip install -r requirements.txt\n",
    "# after the installation clone the yolov5 repository and setup all the dataset and files for training\n",
    "# then i ran train.py file which is going to run on 50 epochs and save my model at runs/train/mask_yolov5s_results2\n",
    "# after that i used the detect.py file to test my model on unseen images"
   ]
  },
  {
   "cell_type": "markdown",
   "id": "18eb4799",
   "metadata": {},
   "source": [
    "# HOW TO RUN THE MODEL"
   ]
  },
  {
   "cell_type": "code",
   "execution_count": null,
   "id": "b309174d",
   "metadata": {},
   "outputs": [],
   "source": [
    "!virtualenv localenv -p python3.7\n",
    "!source localenv/bin/activate\n",
    "# the above 2 lines will create the virtualenv and activate it\n",
    "!pip install -r requirements.txt\n",
    "\n",
    "!git clone https://github.com/rnag5076/luxai_assignment\n",
    "\n",
    "%cd luxai_assignment\n",
    "\n",
    "!git clone https://github.com/ultralytics/yolov5\n",
    "\n",
    "#after that cut and paste the data.yaml file inside yolov5/models/data.yaml\n",
    "#make a runs inside yolov5 and save the mask_yolov5s_results2 folder inside it\n",
    "# after that run the detect.py file\n",
    "#make a test folder where all the test images are stored\n",
    "#then run the below script\n",
    "\n",
    "!python detect.py --weights /path/to/mask_yolov5s_results2/weights/last.pt --img 250 --conf 0.3 --source /path/to/test_folder/"
   ]
  }
 ],
 "metadata": {
  "kernelspec": {
   "display_name": "Python 3 (ipykernel)",
   "language": "python",
   "name": "python3"
  },
  "language_info": {
   "codemirror_mode": {
    "name": "ipython",
    "version": 3
   },
   "file_extension": ".py",
   "mimetype": "text/x-python",
   "name": "python",
   "nbconvert_exporter": "python",
   "pygments_lexer": "ipython3",
   "version": "3.7.10"
  }
 },
 "nbformat": 4,
 "nbformat_minor": 5
}
